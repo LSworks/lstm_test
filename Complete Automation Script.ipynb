{
 "cells": [
  {
   "cell_type": "markdown",
   "id": "f55841f5",
   "metadata": {},
   "source": [
    "Automating Script "
   ]
  },
  {
   "cell_type": "code",
   "execution_count": null,
   "id": "970e8f35",
   "metadata": {},
   "outputs": [],
   "source": [
    "import numpy as np\n",
    "import os\n",
    "import logging\n",
    "import onnx\n",
    "import tvm\n",
    "import tvm.micro as micro\n",
    "from tvm.contrib.download import download_testdata\n",
    "from tvm.contrib import graph_executor, utils\n",
    "from tvm import relay\n",
    "import subprocess\n",
    "from tvm.micro.contrib import zephyr\n",
    "%matplotlib inline"
   ]
  },
  {
   "cell_type": "code",
   "execution_count": null,
   "id": "bf82afb3",
   "metadata": {},
   "outputs": [],
   "source": [
    "seq_length = 32\n",
    "input_name = \"input\"\n",
    "shape_dict = {input_name: (1,seq_length,1)}\n",
    "TARGET = tvm.target.target.micro(\"stm32f746xx\")\n",
    "BOARD = \"nucleo_f746zg\" # or \"stm32f746g_disco#\""
   ]
  },
  {
   "cell_type": "code",
   "execution_count": null,
   "id": "ec2168f6",
   "metadata": {},
   "outputs": [],
   "source": [
    "repo_root = subprocess.check_output([\"git\", \"rev-parse\", \"--show-toplevel\"], encoding='utf-8').strip()\n",
    "project_dir = os.path.join(repo_root, \"apps\", \"microtvm\", \"zephyr\", \"demo_runtime\")\n",
    "compiler = zephyr.ZephyrCompiler(\n",
    "        project_dir=project_dir,\n",
    "        board=BOARD,\n",
    "        zephyr_toolchain_variant=\"zephyr\",\n",
    "    )\n",
    "\n",
    "opts = tvm.micro.default_options(f\"{project_dir}/crt\")\n",
    "workspace = tvm.micro.Workspace()\n",
    "flasher = compiler.flasher()"
   ]
  },
  {
   "cell_type": "code",
   "execution_count": null,
   "id": "0eeb9d7f",
   "metadata": {},
   "outputs": [],
   "source": [
    "print(os.getcwd())\n",
    "\n",
    "os.chdir('/home/vagrant/test_models/32_lstm_test')\n",
    "print(os.getcwd())\n"
   ]
  },
  {
   "cell_type": "code",
   "execution_count": null,
   "id": "5f5c4ae1",
   "metadata": {},
   "outputs": [],
   "source": [
    "\n",
    "for each in range(0,2):\n",
    "    model_path = os.path.join(os.getcwd(),\"lstm_\"+ str(seq_length) + \"_\" + str(each) + \".onnx\")\n",
    "    model = onnx.load(model_path)\n",
    "    print(model_path)\n",
    "    \n",
    "\n",
    "    input_name = \"input\"\n",
    "    shape_dict = {input_name: (1,32,1)}\n",
    "    mod, params = relay.frontend.from_onnx(model, shape_dict)\n",
    "    with tvm.transform.PassContext(opt_level=3, config={\"tir.disable_vectorize\": True}):\n",
    "        graph, c_mod, c_params = relay.build(mod, target=TARGET, params=params)\n",
    "        micro_binary = tvm.micro.build_static_runtime(workspace,compiler,c_mod,opts,extra_libs=[tvm.micro.get_standalone_crt_lib(\"memory\")],)    \n",
    "    with tvm.micro.Session(binary=micro_binary, flasher=flasher) as session:\n",
    "        graph_mod = tvm.micro.create_local_debug_executor(graph, session.get_system_lib(), session.device)\n",
    "        graph_mod.set_input(**c_params)\n",
    "        graph_mod.set_input(input_name, tvm.nd.array(np.array([[[0.1237],[0.1794],[0.1618],[0.1735],[0.1366],[0.1698],[0.1709],[0.1808],[0.1071],[0.1256],[0.1256],[0.1293],[0.1552],[0.1635],[0.1717],[0.1392],[0.1460],[0.1691],[0.1109],[0.1323],[0.1953],[0.1886],[0.1627],[0.1753],[0.1037],[0.1046],[0.1716],[0.1724],[0.1041],[0.1638],[0.1326],[0.1528]]], dtype=\"float32\")))\n",
    "        graph_mod.run()\n",
    "        tvm_output = graph_mod.get_output(0).asnumpy()\n",
    "        print(\"result is: \" + str(tvm_output))\n",
    "    workspace = tvm.micro.Workspace()"
   ]
  },
  {
   "cell_type": "code",
   "execution_count": null,
   "id": "81e519e1",
   "metadata": {},
   "outputs": [],
   "source": []
  },
  {
   "cell_type": "code",
   "execution_count": null,
   "id": "431fe025",
   "metadata": {},
   "outputs": [],
   "source": []
  }
 ],
 "metadata": {
  "kernelspec": {
   "display_name": "Python 3",
   "language": "python",
   "name": "python3"
  },
  "language_info": {
   "codemirror_mode": {
    "name": "ipython",
    "version": 3
   },
   "file_extension": ".py",
   "mimetype": "text/x-python",
   "name": "python",
   "nbconvert_exporter": "python",
   "pygments_lexer": "ipython3",
   "version": "3.6.9"
  }
 },
 "nbformat": 4,
 "nbformat_minor": 5
}
